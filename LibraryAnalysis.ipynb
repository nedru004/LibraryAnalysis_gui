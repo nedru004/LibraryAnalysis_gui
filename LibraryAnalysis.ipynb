{
  "nbformat": 4,
  "nbformat_minor": 0,
  "metadata": {
    "colab": {
      "provenance": [],
      "private_outputs": true,
      "machine_shape": "hm",
      "include_colab_link": true
    },
    "kernelspec": {
      "name": "python3",
      "display_name": "Python 3"
    },
    "language_info": {
      "name": "python"
    }
  },
  "cells": [
    {
      "cell_type": "markdown",
      "metadata": {
        "id": "view-in-github",
        "colab_type": "text"
      },
      "source": [
        "<a href=\"https://colab.research.google.com/github/nedru004/LibraryAnalysis_gui/blob/main/LibraryAnalysis.ipynb\" target=\"_parent\"><img src=\"https://colab.research.google.com/assets/colab-badge.svg\" alt=\"Open In Colab\"/></a>"
      ]
    },
    {
      "cell_type": "code",
      "execution_count": null,
      "metadata": {
        "id": "HmvE0fxkcEl2",
        "cellView": "form"
      },
      "outputs": [],
      "source": [
        "#@title 1. Download LibraryAnalysis GitHub\n",
        "\n",
        "#@markdown Please execute each cell by pressing the *Play* button on\n",
        "#@markdown the left.\n",
        "\n",
        "!git clone 'https://github.com/nedru004/LibraryAnalysis_gui'\n",
        "!pip3 install -r ./LibraryAnalysis_gui/requirements.txt"
      ]
    },
    {
      "cell_type": "code",
      "source": [
        "#@title 2. Upload WT fasta file ⬆️\n",
        "from google.colab import files\n",
        "use_google_drive = True  #@param {type:\"boolean\"}\n",
        "if use_google_drive:\n",
        "  from google.colab import drive\n",
        "  drive.mount('/content/gdrive')\n",
        "  wt_name = '/content/gdrive/MyDrive/data/otto_12/tcb.fa'  #@param {type:\"string\"}\n",
        "else:\n",
        "  from google.colab import files\n",
        "  import os\n",
        "  dir_path = os.path.dirname(os.path.realpath('__file__'))\n",
        "  uploaded = files.upload()\n",
        "  wt_name = list(uploaded.keys())[0]\n",
        "  file1 = open(wt_name, \"wb\")\n",
        "  file1.write(uploaded[wt_name])\n",
        "  file1.close()\n",
        "  wt_name = os.path.join(dir_path,wt_name)"
      ],
      "metadata": {
        "id": "V6QrIskiCrHe",
        "cellView": "form"
      },
      "execution_count": null,
      "outputs": []
    },
    {
      "cell_type": "code",
      "source": [
        "#@title 3. Upload read1 ⬆️\n",
        "from google.colab import files\n",
        "use_google_drive = True  #@param {type:\"boolean\"}\n",
        "if use_google_drive:\n",
        "  from google.colab import drive\n",
        "  drive.mount('/content/gdrive')\n",
        "  read1_name = '/content/gdrive/MyDrive/data/otto_12/42A-A-Neg_S34_L002_R1_001.fastq.gz'  #@param {type:\"string\"}\n",
        "else:\n",
        "  read1_name = list(uploaded.keys())[0]\n",
        "  file1 = open(read1_name, \"wb\")\n",
        "  file1.write(uploaded[read1_name])\n",
        "  file1.close()\n",
        "  read1_name = os.path.join(dir_path,read1_name)"
      ],
      "metadata": {
        "id": "N0U8BIxSMEnc",
        "cellView": "form"
      },
      "execution_count": null,
      "outputs": []
    },
    {
      "cell_type": "code",
      "source": [
        "#@title 4. Upload read2 ⬆️\n",
        "use_google_drive = True  #@param {type:\"boolean\"}\n",
        "if use_google_drive:\n",
        "  from google.colab import drive\n",
        "  drive.mount('/content/gdrive')\n",
        "  read2_name = '/content/gdrive/MyDrive/data/otto_12/42A-A-Neg_S34_L002_R2_001.fastq.gz'  #@param {type:\"string\"}\n",
        "else:\n",
        "  uploaded = files.upload()\n",
        "  read2_name = list(uploaded.keys())[0]\n",
        "  file1 = open(read2_name, \"wb\")\n",
        "  file1.write(uploaded[read2_name])\n",
        "  file1.close()\n",
        "  read2_name = os.path.join(dir_path,read2_name)"
      ],
      "metadata": {
        "id": "VMqNG5FsRnk3",
        "cellView": "form"
      },
      "execution_count": null,
      "outputs": []
    },
    {
      "cell_type": "code",
      "source": [
        "#@title 4. Upload inserted domain file ⬆️\n",
        "use_google_drive = False  #@param {type:\"boolean\"}\n",
        "if use_google_drive:\n",
        "  from google.colab import drive\n",
        "  drive.mount('/content/gdrive')\n",
        "  domains = '/content/LibraryAnalysis_gui/scripts/domains.txt'  #@param {type:\"string\"}\n",
        "else:\n",
        "  uploaded = files.upload()\n",
        "  tmp_name = list(uploaded.keys())[0]\n",
        "  file1 = open(tmp_name, \"wb\")\n",
        "  file1.write(uploaded[tmp_name])\n",
        "  file1.close()\n",
        "  domains = os.path.join(dir_path,tmp_name)"
      ],
      "metadata": {
        "cellView": "form",
        "id": "2E_r2zO2yOcA"
      },
      "execution_count": null,
      "outputs": []
    },
    {
      "cell_type": "code",
      "source": [
        "#@title 4. Upload read2 ⬆️\n",
        "use_google_drive = False  #@param {type:\"boolean\"}\n",
        "if use_google_drive:\n",
        "  from google.colab import drive\n",
        "  drive.mount('/content/gdrive')\n",
        "  designed_mutations = '/content/LibraryAnalysis_gui/scripts/designed_mutations.txt'  #@param {type:\"string\"}\n",
        "else:\n",
        "  uploaded = files.upload()\n",
        "  tmp_name = list(uploaded.keys())[0]\n",
        "  file1 = open(tmp_name, \"wb\")\n",
        "  file1.write(uploaded[tmp_name])\n",
        "  file1.close()\n",
        "  designed_mutations = os.path.join(dir_path,tmp_name)"
      ],
      "metadata": {
        "cellView": "form",
        "id": "X92sklTFyPQi"
      },
      "execution_count": null,
      "outputs": []
    },
    {
      "cell_type": "code",
      "source": [
        "#@title 5. Run ⭐\n",
        "run_variant = True  #@param {type:\"boolean\"}\n",
        "run_correlation = False  #@param {type:\"boolean\"}\n",
        "indel_analysis = True  #@param {type:\"boolean\"}\n",
        "full_length_analysis = True  #@param {type:\"boolean\"}\n",
        "long_read_analysis = False  #@param {type:\"boolean\"}\n",
        "minimum_read_quality = 15  #@param {type:\"slider\", min:0, max:100, step:1}\n",
        "minimum_base_quality = 10  #@param {type:\"slider\", min:0, max:100, step:1}\n",
        "parallel_threads = 1  #@param {type:\"integer\"}\n",
        "\n",
        "batch_analysis = True  #@param {type:\"boolean\"}\n",
        "batch_folder = '/content/gdrive/MyDrive/data/otto_12'  #@param {type:\"string\"}\n",
        "\n",
        "%cd /content/LibraryAnalysis_gui/scripts/\n",
        "# run the analysis\n",
        "arguments = ['-wt', wt_name, '-minq', str(minimum_read_quality), '-minb', str(minimum_base_quality)]\n",
        "if run_variant:\n",
        "  arguments.append('-v')\n",
        "if indel_analysis:\n",
        "  arguments.append('-i')\n",
        "if full_length_analysis:\n",
        "  arguments.append('-vfull')\n",
        "if long_read_analysis:\n",
        "  arguments.append('-pb')\n",
        "if run_correlation:\n",
        "  arguments.append('-c')\n",
        "if parallel_threads > 1:\n",
        "  arguments.append('-par')\n",
        "  arguments.append(str(parallel_threads))\n",
        "if domains:\n",
        "  arguments.append('-d')\n",
        "  arguments.append(domains)\n",
        "if designed_mutations:\n",
        "  arguments.append('-m')\n",
        "  arguments.append(designed_mutations)\n",
        "\n",
        "if batch_analysis:\n",
        "  import re\n",
        "  import os\n",
        "  paired_files = {}\n",
        "  for file in os.listdir(batch_folder):\n",
        "    if '.fastq' in file and 'corrected' not in file:\n",
        "      try:\n",
        "        paired_files[re.sub(r'_R\\d_', '', file)].append(os.path.join(batch_folder, file))\n",
        "      except KeyError:\n",
        "        paired_files[re.sub(r'_R\\d_', '', file)] = [os.path.join(batch_folder, file)]\n",
        "  for key, value in paired_files.items():\n",
        "    assert len(value) < 3, 'Too many files'\n",
        "    tmp_args = arguments.copy()\n",
        "    tmp_args.append('-s')\n",
        "    tmp_args.append(value[0])\n",
        "    tmp_args.append('-p')\n",
        "    tmp_args.append(value[1])\n",
        "    command = ' '.join(tmp_args)\n",
        "    #print(command)\n",
        "    !python LibAn.py {command}\n",
        "else:\n",
        "  arguments.append('-s')\n",
        "  arguments.append(read1_name)\n",
        "  arguments.append('-p')\n",
        "  arguments.append(read2_name)\n",
        "  command = ' '.join(arguments)\n",
        "  !python LibAn.py {command}\n",
        "\n"
      ],
      "metadata": {
        "id": "HLO5FuLrDcQW",
        "cellView": "form"
      },
      "execution_count": null,
      "outputs": []
    },
    {
      "cell_type": "code",
      "source": [
        "#@title 6. Download the results\n",
        "# add files to output_dir\n",
        "output_dir = '/content'\n",
        "!zip -q -r {output_dir}.zip {output_dir} -x {output_dir}/LibraryAnalysis/\\* {output_dir}/sample_data/\\*\n",
        "files.download(f'{output_dir}.zip')"
      ],
      "metadata": {
        "cellView": "form",
        "id": "5vjG3q6gMo7t"
      },
      "execution_count": null,
      "outputs": []
    }
  ]
}